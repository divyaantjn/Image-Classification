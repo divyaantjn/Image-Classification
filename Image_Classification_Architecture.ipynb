{
  "nbformat": 4,
  "nbformat_minor": 0,
  "metadata": {
    "colab": {
      "provenance": [],
      "gpuType": "T4"
    },
    "kernelspec": {
      "name": "python3",
      "display_name": "Python 3"
    },
    "language_info": {
      "name": "python"
    },
    "accelerator": "GPU"
  },
  "cells": [
    {
      "cell_type": "code",
      "execution_count": null,
      "metadata": {
        "id": "xhSIRRwx6T_a"
      },
      "outputs": [],
      "source": [
        "import tensorflow as tf\n",
        "from tensorflow.keras import datasets, utils\n",
        "from tensorflow.keras.models import Sequential\n",
        "from tensorflow.keras.layers import Dense, Flatten, Conv2D, MaxPooling2D\n",
        "from tensorflow.keras.callbacks import EarlyStopping\n",
        "import matplotlib.pyplot as plt\n",
        "import numpy as np"
      ]
    },
    {
      "cell_type": "markdown",
      "source": [
        "**Loading Dataset**"
      ],
      "metadata": {
        "id": "7620EHtV77yg"
      }
    },
    {
      "cell_type": "code",
      "source": [
        "(X_train, y_train), (X_test,y_test) = datasets.cifar10.load_data()"
      ],
      "metadata": {
        "id": "Z19SO9Sn7ep7"
      },
      "execution_count": null,
      "outputs": []
    },
    {
      "cell_type": "code",
      "source": [
        "X_train.shape"
      ],
      "metadata": {
        "colab": {
          "base_uri": "https://localhost:8080/"
        },
        "id": "nbg7d_n876pF",
        "outputId": "39b160fe-9427-4a23-d32a-cf86f01e966b"
      },
      "execution_count": null,
      "outputs": [
        {
          "output_type": "execute_result",
          "data": {
            "text/plain": [
              "(50000, 32, 32, 3)"
            ]
          },
          "metadata": {},
          "execution_count": 3
        }
      ]
    },
    {
      "cell_type": "code",
      "source": [
        "X_test.shape"
      ],
      "metadata": {
        "colab": {
          "base_uri": "https://localhost:8080/"
        },
        "id": "CemE-vLv8ASp",
        "outputId": "389ba5b7-4772-4a48-ee36-8277d7f2d5ca"
      },
      "execution_count": null,
      "outputs": [
        {
          "output_type": "execute_result",
          "data": {
            "text/plain": [
              "(10000, 32, 32, 3)"
            ]
          },
          "metadata": {},
          "execution_count": 4
        }
      ]
    },
    {
      "cell_type": "code",
      "source": [
        "y_train.shape"
      ],
      "metadata": {
        "colab": {
          "base_uri": "https://localhost:8080/"
        },
        "id": "kmHd9jLc8B-m",
        "outputId": "a010c04d-52a6-4df5-c403-e8cb8b536c12"
      },
      "execution_count": null,
      "outputs": [
        {
          "output_type": "execute_result",
          "data": {
            "text/plain": [
              "(50000, 1)"
            ]
          },
          "metadata": {},
          "execution_count": 5
        }
      ]
    },
    {
      "cell_type": "code",
      "source": [
        "y_train"
      ],
      "metadata": {
        "colab": {
          "base_uri": "https://localhost:8080/"
        },
        "id": "AsakqGCz8Fi7",
        "outputId": "53071229-ceb0-43a2-a1a7-fb26ac590b79"
      },
      "execution_count": null,
      "outputs": [
        {
          "output_type": "execute_result",
          "data": {
            "text/plain": [
              "array([[6],\n",
              "       [9],\n",
              "       [9],\n",
              "       ...,\n",
              "       [9],\n",
              "       [1],\n",
              "       [1]], dtype=uint8)"
            ]
          },
          "metadata": {},
          "execution_count": 6
        }
      ]
    },
    {
      "cell_type": "code",
      "source": [
        "y_train = y_train.reshape(-1,)\n",
        "y_train"
      ],
      "metadata": {
        "colab": {
          "base_uri": "https://localhost:8080/"
        },
        "id": "9tD8iTLx822E",
        "outputId": "0d107af5-7429-41d9-d0b7-06fb32eaa3cf"
      },
      "execution_count": null,
      "outputs": [
        {
          "output_type": "execute_result",
          "data": {
            "text/plain": [
              "array([6, 9, 9, ..., 9, 1, 1], dtype=uint8)"
            ]
          },
          "metadata": {},
          "execution_count": 7
        }
      ]
    },
    {
      "cell_type": "code",
      "source": [
        "y_test = y_test.reshape(-1,)\n",
        "y_test"
      ],
      "metadata": {
        "colab": {
          "base_uri": "https://localhost:8080/"
        },
        "id": "vrehCmC088k2",
        "outputId": "26a6f6fc-4aa2-487e-dc1f-c59d86e1d2ed"
      },
      "execution_count": null,
      "outputs": [
        {
          "output_type": "execute_result",
          "data": {
            "text/plain": [
              "array([3, 8, 8, ..., 5, 1, 7], dtype=uint8)"
            ]
          },
          "metadata": {},
          "execution_count": 8
        }
      ]
    },
    {
      "cell_type": "code",
      "source": [
        "classes = [\"airplane\",\"automobile\",\"bird\",\"cat\",\"deer\",\"dog\",\"frog\",\"horse\",\"ship\",\"truck\"]"
      ],
      "metadata": {
        "id": "hrWtwfU89Iqa"
      },
      "execution_count": null,
      "outputs": []
    },
    {
      "cell_type": "code",
      "source": [
        "plt.figure(figsize = (15,2))\n",
        "plt.imshow(X_train[0])"
      ],
      "metadata": {
        "colab": {
          "base_uri": "https://localhost:8080/",
          "height": 234
        },
        "id": "WCZXErOq9MM1",
        "outputId": "afa6f238-e8ad-405f-fddf-ee10e4f27b58"
      },
      "execution_count": null,
      "outputs": [
        {
          "output_type": "execute_result",
          "data": {
            "text/plain": [
              "<matplotlib.image.AxesImage at 0x7c09957835b0>"
            ]
          },
          "metadata": {},
          "execution_count": 10
        },
        {
          "output_type": "display_data",
          "data": {
            "text/plain": [
              "<Figure size 1500x200 with 1 Axes>"
            ],
            "image/png": "[encoded data removed]"
          },
          "metadata": {}
        }
      ]
    },
    {
      "cell_type": "code",
      "source": [
        "plt.figure(figsize = (15,2))\n",
        "plt.imshow(X_train[1])"
      ],
      "metadata": {
        "colab": {
          "base_uri": "https://localhost:8080/",
          "height": 234
        },
        "id": "8TGqAHJvAGJU",
        "outputId": "cee14bf3-316e-4beb-84ed-9ce9c7beab76"
      },
      "execution_count": null,
      "outputs": [
        {
          "output_type": "execute_result",
          "data": {
            "text/plain": [
              "<matplotlib.image.AxesImage at 0x7c098a4683a0>"
            ]
          },
          "metadata": {},
          "execution_count": 11
        },
        {
          "output_type": "display_data",
          "data": {
            "text/plain": [
              "<Figure size 1500x200 with 1 Axes>"
            ],
            "image/png": "[encoded data removed]"
          },
          "metadata": {}
        }
      ]
    },
    {
      "cell_type": "code",
      "source": [
        "def plot_sample(X, y, index):\n",
        "    plt.figure(figsize = (15,2))\n",
        "    plt.imshow(X[index])\n",
        "    plt.xlabel(classes[y[index]])"
      ],
      "metadata": {
        "id": "zfl6_P5FAT1q"
      },
      "execution_count": null,
      "outputs": []
    },
    {
      "cell_type": "code",
      "source": [
        "plot_sample(X_train, y_train, 0)"
      ],
      "metadata": {
        "colab": {
          "base_uri": "https://localhost:8080/",
          "height": 237
        },
        "id": "IFYfvo0qAZlZ",
        "outputId": "1abdbe72-9d77-4bbb-fccc-4ec874c943fa"
      },
      "execution_count": null,
      "outputs": [
        {
          "output_type": "display_data",
          "data": {
            "text/plain": [
              "<Figure size 1500x200 with 1 Axes>"
            ],
            "image/png": "[encoded data removed]"
          },
          "metadata": {}
        }
      ]
    },
    {
      "cell_type": "code",
      "source": [
        "plot_sample(X_train, y_train, 1)"
      ],
      "metadata": {
        "colab": {
          "base_uri": "https://localhost:8080/",
          "height": 237
        },
        "id": "q--hA0oYAb_d",
        "outputId": "e995a2c8-93af-42be-ef0c-bd5869aaa559"
      },
      "execution_count": null,
      "outputs": [
        {
          "output_type": "display_data",
          "data": {
            "text/plain": [
              "<Figure size 1500x200 with 1 Axes>"
            ],
            "image/png": "[encoded data removed]"
          },
          "metadata": {}
        }
      ]
    },
    {
      "cell_type": "code",
      "source": [
        "# Normalizing Data\n",
        "\n",
        "X_train = X_train / 255.0\n",
        "X_test = X_test / 255.0"
      ],
      "metadata": {
        "id": "fsRd2vLXAjRg"
      },
      "execution_count": null,
      "outputs": []
    },
    {
      "cell_type": "markdown",
      "source": [
        "## **Build simple ANN for image classification**"
      ],
      "metadata": {
        "id": "tcb9pWa_Azg-"
      }
    },
    {
      "cell_type": "code",
      "source": [
        "ann_model = Sequential()\n",
        "ann_model.add(Flatten(input_shape=(32, 32, 3)))\n",
        "ann_model.add(Dense(3000, activation='relu'))\n",
        "ann_model.add(Dense(1000, activation='relu'))\n",
        "ann_model.add(Dense(10, activation='softmax'))"
      ],
      "metadata": {
        "id": "F5bibNCrArfE"
      },
      "execution_count": null,
      "outputs": []
    },
    {
      "cell_type": "code",
      "source": [
        "ann_model.compile(loss='sparse_categorical_crossentropy', optimizer='adam', metrics=['accuracy'])"
      ],
      "metadata": {
        "id": "N1f0Xan7BAKP"
      },
      "execution_count": null,
      "outputs": []
    },
    {
      "cell_type": "code",
      "source": [
        "early_stopping = EarlyStopping(monitor='val_loss', patience=5)\n",
        "ann_model.fit(X_train, y_train, epochs=15, validation_data=(X_test, y_test), callbacks=[early_stopping])"
      ],
      "metadata": {
        "colab": {
          "base_uri": "https://localhost:8080/"
        },
        "id": "BDEhjUbCBrW9",
        "outputId": "17ac65a3-9103-462c-b00d-47e007c42523"
      },
      "execution_count": null,
      "outputs": [
        {
          "output_type": "stream",
          "name": "stdout",
          "text": [
            "Epoch 1/15\n",
            "1563/1563 [==============================] - 20s 10ms/step - loss: 1.8938 - accuracy: 0.3252 - val_loss: 1.7346 - val_accuracy: 0.3735\n",
            "Epoch 2/15\n",
            "1563/1563 [==============================] - 10s 6ms/step - loss: 1.6710 - accuracy: 0.4001 - val_loss: 1.6196 - val_accuracy: 0.4140\n",
            "Epoch 3/15\n",
            "1563/1563 [==============================] - 10s 6ms/step - loss: 1.5909 - accuracy: 0.4261 - val_loss: 1.5553 - val_accuracy: 0.4399\n",
            "Epoch 4/15\n",
            "1563/1563 [==============================] - 10s 7ms/step - loss: 1.5419 - accuracy: 0.4470 - val_loss: 1.5099 - val_accuracy: 0.4663\n",
            "Epoch 5/15\n",
            "1563/1563 [==============================] - 9s 6ms/step - loss: 1.5139 - accuracy: 0.4552 - val_loss: 1.5576 - val_accuracy: 0.4482\n",
            "Epoch 6/15\n",
            "1563/1563 [==============================] - 10s 6ms/step - loss: 1.4818 - accuracy: 0.4690 - val_loss: 1.5339 - val_accuracy: 0.4454\n",
            "Epoch 7/15\n",
            "1563/1563 [==============================] - 10s 6ms/step - loss: 1.4585 - accuracy: 0.4784 - val_loss: 1.4791 - val_accuracy: 0.4700\n",
            "Epoch 8/15\n",
            "1563/1563 [==============================] - 10s 6ms/step - loss: 1.4349 - accuracy: 0.4857 - val_loss: 1.5177 - val_accuracy: 0.4652\n",
            "Epoch 9/15\n",
            "1563/1563 [==============================] - 10s 6ms/step - loss: 1.4159 - accuracy: 0.4913 - val_loss: 1.5046 - val_accuracy: 0.4597\n",
            "Epoch 10/15\n",
            "1563/1563 [==============================] - 10s 6ms/step - loss: 1.3994 - accuracy: 0.4986 - val_loss: 1.4748 - val_accuracy: 0.4754\n",
            "Epoch 11/15\n",
            "1563/1563 [==============================] - 10s 6ms/step - loss: 1.3846 - accuracy: 0.5024 - val_loss: 1.4598 - val_accuracy: 0.4823\n",
            "Epoch 12/15\n",
            "1563/1563 [==============================] - 10s 6ms/step - loss: 1.3684 - accuracy: 0.5088 - val_loss: 1.4621 - val_accuracy: 0.4806\n",
            "Epoch 13/15\n",
            "1563/1563 [==============================] - 10s 6ms/step - loss: 1.3540 - accuracy: 0.5170 - val_loss: 1.4537 - val_accuracy: 0.4865\n",
            "Epoch 14/15\n",
            "1563/1563 [==============================] - 10s 6ms/step - loss: 1.3390 - accuracy: 0.5223 - val_loss: 1.4780 - val_accuracy: 0.4799\n",
            "Epoch 15/15\n",
            "1563/1563 [==============================] - 11s 7ms/step - loss: 1.3300 - accuracy: 0.5253 - val_loss: 1.4593 - val_accuracy: 0.4871\n"
          ]
        },
        {
          "output_type": "execute_result",
          "data": {
            "text/plain": [
              "<keras.src.callbacks.History at 0x7c098a312f80>"
            ]
          },
          "metadata": {},
          "execution_count": 18
        }
      ]
    },
    {
      "cell_type": "code",
      "source": [
        "ann_loss, ann_acc = ann_model.evaluate(X_test, y_test)\n",
        "print('ANN Test Accuracy:', ann_acc)"
      ],
      "metadata": {
        "colab": {
          "base_uri": "https://localhost:8080/"
        },
        "id": "HcWQS4vNB2J6",
        "outputId": "b2f128bf-55fa-443c-d71c-1915707f0eff"
      },
      "execution_count": null,
      "outputs": [
        {
          "output_type": "stream",
          "name": "stdout",
          "text": [
            "313/313 [==============================] - 1s 3ms/step - loss: 1.4593 - accuracy: 0.4871\n",
            "ANN Test Accuracy: 0.4871000051498413\n"
          ]
        }
      ]
    },
    {
      "cell_type": "markdown",
      "source": [
        " Accuracy is at around 49%"
      ],
      "metadata": {
        "id": "zmV24mYYC_MP"
      }
    },
    {
      "cell_type": "code",
      "source": [
        "from sklearn.metrics import confusion_matrix , classification_report\n",
        "import numpy as np\n",
        "y_pred = ann_model.predict(X_test)\n",
        "y_pred_classes = [np.argmax(element) for element in y_pred]\n",
        "\n",
        "print(\"Classification Report: \\n\", classification_report(y_test, y_pred_classes))"
      ],
      "metadata": {
        "colab": {
          "base_uri": "https://localhost:8080/"
        },
        "id": "xVAqJfxiC4gZ",
        "outputId": "ef936b12-1d8f-4db3-fae0-a12edf1b4eb1"
      },
      "execution_count": null,
      "outputs": [
        {
          "output_type": "stream",
          "name": "stdout",
          "text": [
            "313/313 [==============================] - 1s 2ms/step\n",
            "Classification Report: \n",
            "               precision    recall  f1-score   support\n",
            "\n",
            "           0       0.58      0.51      0.54      1000\n",
            "           1       0.59      0.58      0.59      1000\n",
            "           2       0.37      0.38      0.37      1000\n",
            "           3       0.36      0.33      0.35      1000\n",
            "           4       0.38      0.45      0.41      1000\n",
            "           5       0.43      0.33      0.38      1000\n",
            "           6       0.49      0.55      0.52      1000\n",
            "           7       0.52      0.59      0.55      1000\n",
            "           8       0.68      0.56      0.62      1000\n",
            "           9       0.51      0.59      0.54      1000\n",
            "\n",
            "    accuracy                           0.49     10000\n",
            "   macro avg       0.49      0.49      0.49     10000\n",
            "weighted avg       0.49      0.49      0.49     10000\n",
            "\n"
          ]
        }
      ]
    },
    {
      "cell_type": "markdown",
      "source": [
        "## **Build a convolutional neural network to train our images**"
      ],
      "metadata": {
        "id": "O5nbZosKDWrA"
      }
    },
    {
      "cell_type": "code",
      "source": [
        "cnn_model = Sequential()\n",
        "\n",
        "cnn_model.add(Conv2D(32, (3, 3), activation='relu', input_shape=(32, 32, 3)))\n",
        "cnn_model.add(MaxPooling2D((2, 2)))\n",
        "\n",
        "cnn_model.add(Conv2D(64, (3, 3), activation='relu'))\n",
        "cnn_model.add(MaxPooling2D((2, 2)))\n",
        "\n",
        "cnn_model.add(Flatten())\n",
        "cnn_model.add(Dense(64, activation='relu'))\n",
        "cnn_model.add(Dense(10, activation='softmax'))"
      ],
      "metadata": {
        "id": "dd8yC7fbDKfi"
      },
      "execution_count": null,
      "outputs": []
    },
    {
      "cell_type": "code",
      "source": [
        "# Compile the model\n",
        "cnn_model.compile(loss='sparse_categorical_crossentropy', optimizer='adam', metrics=['accuracy'])"
      ],
      "metadata": {
        "id": "7tcwywIaDrrd"
      },
      "execution_count": null,
      "outputs": []
    },
    {
      "cell_type": "code",
      "source": [
        "early_stopping = EarlyStopping(monitor='val_loss', patience=5)\n",
        "cnn_model.fit(X_train, y_train, epochs=20, validation_data=(X_test, y_test), callbacks=[early_stopping])"
      ],
      "metadata": {
        "colab": {
          "base_uri": "https://localhost:8080/"
        },
        "id": "PpcB8uQPDzJe",
        "outputId": "2d50839b-d425-4483-98b5-7d165339a1a9"
      },
      "execution_count": null,
      "outputs": [
        {
          "output_type": "stream",
          "name": "stdout",
          "text": [
            "Epoch 1/20\n",
            "1563/1563 [==============================] - 12s 6ms/step - loss: 1.4466 - accuracy: 0.4784 - val_loss: 1.2086 - val_accuracy: 0.5616\n",
            "Epoch 2/20\n",
            "1563/1563 [==============================] - 11s 7ms/step - loss: 1.0883 - accuracy: 0.6154 - val_loss: 1.0250 - val_accuracy: 0.6412\n",
            "Epoch 3/20\n",
            "1563/1563 [==============================] - 8s 5ms/step - loss: 0.9626 - accuracy: 0.6650 - val_loss: 0.9671 - val_accuracy: 0.6660\n",
            "Epoch 4/20\n",
            "1563/1563 [==============================] - 7s 4ms/step - loss: 0.8797 - accuracy: 0.6947 - val_loss: 0.9261 - val_accuracy: 0.6787\n",
            "Epoch 5/20\n",
            "1563/1563 [==============================] - 9s 6ms/step - loss: 0.8155 - accuracy: 0.7167 - val_loss: 0.9193 - val_accuracy: 0.6822\n",
            "Epoch 6/20\n",
            "1563/1563 [==============================] - 7s 4ms/step - loss: 0.7592 - accuracy: 0.7365 - val_loss: 0.9142 - val_accuracy: 0.6958\n",
            "Epoch 7/20\n",
            "1563/1563 [==============================] - 7s 5ms/step - loss: 0.7127 - accuracy: 0.7510 - val_loss: 0.9661 - val_accuracy: 0.6830\n",
            "Epoch 8/20\n",
            "1563/1563 [==============================] - 10s 6ms/step - loss: 0.6706 - accuracy: 0.7667 - val_loss: 0.9134 - val_accuracy: 0.6970\n",
            "Epoch 9/20\n",
            "1563/1563 [==============================] - 7s 5ms/step - loss: 0.6290 - accuracy: 0.7804 - val_loss: 0.9031 - val_accuracy: 0.7020\n",
            "Epoch 10/20\n",
            "1563/1563 [==============================] - 7s 5ms/step - loss: 0.5955 - accuracy: 0.7918 - val_loss: 0.9726 - val_accuracy: 0.6900\n",
            "Epoch 11/20\n",
            "1563/1563 [==============================] - 8s 5ms/step - loss: 0.5632 - accuracy: 0.8029 - val_loss: 0.9547 - val_accuracy: 0.6965\n",
            "Epoch 12/20\n",
            "1563/1563 [==============================] - 13s 9ms/step - loss: 0.5316 - accuracy: 0.8116 - val_loss: 0.9726 - val_accuracy: 0.6943\n",
            "Epoch 13/20\n",
            "1563/1563 [==============================] - 12s 8ms/step - loss: 0.4993 - accuracy: 0.8235 - val_loss: 0.9911 - val_accuracy: 0.6913\n",
            "Epoch 14/20\n",
            "1563/1563 [==============================] - 8s 5ms/step - loss: 0.4723 - accuracy: 0.8325 - val_loss: 1.0411 - val_accuracy: 0.6771\n"
          ]
        },
        {
          "output_type": "execute_result",
          "data": {
            "text/plain": [
              "<keras.src.callbacks.History at 0x7c08b0cb76d0>"
            ]
          },
          "metadata": {},
          "execution_count": 23
        }
      ]
    },
    {
      "cell_type": "markdown",
      "source": [
        "With CNN, accuracy is at around 67%, which is a significant improvement over ANN (49% accuracy)."
      ],
      "metadata": {
        "id": "yE-kg5QDEb0W"
      }
    },
    {
      "cell_type": "code",
      "source": [
        "# Evaluate the model\n",
        "cnn_loss, cnn_acc = cnn_model.evaluate(X_test, y_test)\n",
        "print('CNN Test Accuracy:', cnn_acc)"
      ],
      "metadata": {
        "colab": {
          "base_uri": "https://localhost:8080/"
        },
        "id": "5zioSn6fD8cv",
        "outputId": "2a25fa8d-f53f-4ccc-bdac-f56a7a511f79"
      },
      "execution_count": null,
      "outputs": [
        {
          "output_type": "stream",
          "name": "stdout",
          "text": [
            "313/313 [==============================] - 1s 3ms/step - loss: 1.0411 - accuracy: 0.6771\n",
            "CNN Test Accuracy: 0.6771000027656555\n"
          ]
        }
      ]
    },
    {
      "cell_type": "code",
      "source": [
        "from sklearn.metrics import confusion_matrix , classification_report\n",
        "import numpy as np\n",
        "y_pred = cnn_model.predict(X_test)\n",
        "y_pred_classes = [np.argmax(element) for element in y_pred]\n",
        "\n",
        "print(\"Classification Report: \\n\", classification_report(y_test, y_pred_classes))"
      ],
      "metadata": {
        "colab": {
          "base_uri": "https://localhost:8080/"
        },
        "id": "qSqiEuRNEi0M",
        "outputId": "0ad09b8c-ec33-450b-adf4-ce6706ad5207"
      },
      "execution_count": null,
      "outputs": [
        {
          "output_type": "stream",
          "name": "stdout",
          "text": [
            "313/313 [==============================] - 1s 2ms/step\n",
            "Classification Report: \n",
            "               precision    recall  f1-score   support\n",
            "\n",
            "           0       0.67      0.73      0.70      1000\n",
            "           1       0.88      0.73      0.80      1000\n",
            "           2       0.49      0.64      0.55      1000\n",
            "           3       0.55      0.44      0.49      1000\n",
            "           4       0.65      0.58      0.61      1000\n",
            "           5       0.66      0.50      0.57      1000\n",
            "           6       0.72      0.79      0.75      1000\n",
            "           7       0.70      0.74      0.72      1000\n",
            "           8       0.75      0.82      0.79      1000\n",
            "           9       0.75      0.79      0.77      1000\n",
            "\n",
            "    accuracy                           0.68     10000\n",
            "   macro avg       0.68      0.68      0.68     10000\n",
            "weighted avg       0.68      0.68      0.68     10000\n",
            "\n"
          ]
        }
      ]
    },
    {
      "cell_type": "code",
      "source": [
        "plot_sample(X_test, y_test,3)"
      ],
      "metadata": {
        "colab": {
          "base_uri": "https://localhost:8080/",
          "height": 237
        },
        "id": "aQeAtJ_9EqFy",
        "outputId": "aa328013-4051-48e1-feb0-b5ade709d258"
      },
      "execution_count": null,
      "outputs": [
        {
          "output_type": "display_data",
          "data": {
            "text/plain": [
              "<Figure size 1500x200 with 1 Axes>"
            ],
            "image/png": "[encoded data removed]"
          },
          "metadata": {}
        }
      ]
    },
    {
      "cell_type": "code",
      "source": [
        "plot_sample(X_test, y_test,4)"
      ],
      "metadata": {
        "colab": {
          "base_uri": "https://localhost:8080/",
          "height": 237
        },
        "id": "icRCDS1dE9Du",
        "outputId": "f8c7fe0a-db35-4abd-d18d-a380c1e9ce45"
      },
      "execution_count": null,
      "outputs": [
        {
          "output_type": "display_data",
          "data": {
            "text/plain": [
              "<Figure size 1500x200 with 1 Axes>"
            ],
            "image/png": "[encoded data removed]"
          },
          "metadata": {}
        }
      ]
    },
    {
      "cell_type": "code",
      "source": [],
      "metadata": {
        "id": "SAzwOsjlE_8O"
      },
      "execution_count": null,
      "outputs": []
    }
  ]
}