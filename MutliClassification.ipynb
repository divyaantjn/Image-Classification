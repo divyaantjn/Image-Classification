{
  "cells": [
    {
      "cell_type": "code",
      "execution_count": null,
      "metadata": {
        "id": "JmvNoCCj6Age"
      },
      "outputs": [],
      "source": [
        "import tensorflow as tf\n",
        "import tensorflow_datasets as tfds\n",
        "from tensorflow.keras.applications.vgg16 import VGG16\n",
        "from tensorflow.keras.preprocessing.image import ImageDataGenerator\n",
        "from tensorflow.keras.models import Sequential\n",
        "from tensorflow.keras.layers import Flatten, Dense, Dropout\n",
        "from tensorflow.keras.callbacks import EarlyStopping"
      ]
    },
    {
      "cell_type": "code",
      "execution_count": null,
      "metadata": {
        "id": "Je3zj10s6K81"
      },
      "outputs": [],
      "source": [
        "(train_image, train_labels), (validation_image,validation_labels) = tfds.load('tf_flowers', split=['train[:70%]', 'train[:30%]'], as_supervised = True, batch_size = -1)"
      ]
    },
    {
      "cell_type": "code",
      "source": [
        "train_image = tf.image.resize(train_image, (150, 150))\n",
        "validation_image = tf.image.resize(validation_image, (150, 150))"
      ],
      "metadata": {
        "id": "F7o9MueH9RIR"
      },
      "execution_count": null,
      "outputs": []
    },
    {
      "cell_type": "code",
      "source": [
        "train_labels"
      ],
      "metadata": {
        "colab": {
          "base_uri": "https://localhost:8080/"
        },
        "id": "G-FjyjoQ7UZh",
        "outputId": "20eb730d-e827-4a23-e1ff-47ad6cfd6d5b"
      },
      "execution_count": null,
      "outputs": [
        {
          "output_type": "execute_result",
          "data": {
            "text/plain": [
              "<tf.Tensor: shape=(2569,), dtype=int64, numpy=array([2, 3, 3, ..., 0, 2, 0])>"
            ]
          },
          "metadata": {},
          "execution_count": 4
        }
      ]
    },
    {
      "cell_type": "code",
      "source": [
        "num_classes = 5\n",
        "train_labels = tf.keras.utils.to_categorical(train_labels, num_classes)\n",
        "validation_labels = tf.keras.utils.to_categorical(validation_labels, num_classes)"
      ],
      "metadata": {
        "id": "53R0wZYm7aEg"
      },
      "execution_count": null,
      "outputs": []
    },
    {
      "cell_type": "code",
      "source": [
        "train_labels[0]"
      ],
      "metadata": {
        "colab": {
          "base_uri": "https://localhost:8080/"
        },
        "id": "qxKLKLaW9Axh",
        "outputId": "14fd4671-737a-4b42-c1f9-40146d3ed2ad"
      },
      "execution_count": null,
      "outputs": [
        {
          "output_type": "execute_result",
          "data": {
            "text/plain": [
              "array([0., 0., 1., 0., 0.], dtype=float32)"
            ]
          },
          "metadata": {},
          "execution_count": 6
        }
      ]
    },
    {
      "cell_type": "markdown",
      "source": [
        "## **Image Preprocessing**"
      ],
      "metadata": {
        "id": "Aj-HxY3D6M4a"
      }
    },
    {
      "cell_type": "code",
      "source": [
        "# Image Data Generator for data augmentation and standardization\n",
        "train_datagen = ImageDataGenerator(\n",
        "    rescale=1./255,\n",
        "    shear_range=0.1,\n",
        "    zoom_range=0.1,\n",
        "    horizontal_flip=True)"
      ],
      "metadata": {
        "id": "sdJyVpUW9CWJ"
      },
      "execution_count": null,
      "outputs": []
    },
    {
      "cell_type": "code",
      "source": [
        "validation_datagen = ImageDataGenerator(rescale=1./255)"
      ],
      "metadata": {
        "id": "DcJXlElw-B-f"
      },
      "execution_count": null,
      "outputs": []
    },
    {
      "cell_type": "code",
      "source": [
        "train_generator = train_datagen.flow(train_image, train_labels, batch_size=32)\n",
        "validation_generator = validation_datagen.flow(validation_image, validation_labels, batch_size=32)"
      ],
      "metadata": {
        "id": "tjeNGMRW-IQ6"
      },
      "execution_count": null,
      "outputs": []
    },
    {
      "cell_type": "markdown",
      "source": [
        "## **Use Pretrained VGG16 Image Classification model**"
      ],
      "metadata": {
        "id": "7-a9zzdq6DMO"
      }
    },
    {
      "cell_type": "code",
      "source": [
        "train_image[0].shape"
      ],
      "metadata": {
        "colab": {
          "base_uri": "https://localhost:8080/"
        },
        "id": "CjzgwNWN-tC4",
        "outputId": "6629dd57-eaf9-456d-e8d6-2a79fc1a3537"
      },
      "execution_count": null,
      "outputs": [
        {
          "output_type": "execute_result",
          "data": {
            "text/plain": [
              "TensorShape([150, 150, 3])"
            ]
          },
          "metadata": {},
          "execution_count": 13
        }
      ]
    },
    {
      "cell_type": "code",
      "source": [
        "base_model = VGG16(weights=\"imagenet\", include_top=False, input_shape=train_image[0].shape)"
      ],
      "metadata": {
        "colab": {
          "base_uri": "https://localhost:8080/"
        },
        "id": "rKHNCD4y_N7S",
        "outputId": "a1d00b7b-56f9-4297-c337-9be18b992c55"
      },
      "execution_count": null,
      "outputs": [
        {
          "output_type": "stream",
          "name": "stdout",
          "text": [
            "Downloading data from https://storage.googleapis.com/tensorflow/keras-applications/vgg16/vgg16_weights_tf_dim_ordering_tf_kernels_notop.h5\n",
            "58889256/58889256 [==============================] - 4s 0us/step\n"
          ]
        }
      ]
    },
    {
      "cell_type": "code",
      "source": [
        "for layer in base_model.layers:\n",
        "    layer.trainable = False"
      ],
      "metadata": {
        "id": "_bWlOTzdBG-C"
      },
      "execution_count": null,
      "outputs": []
    },
    {
      "cell_type": "code",
      "source": [
        "base_model.summary()"
      ],
      "metadata": {
        "colab": {
          "base_uri": "https://localhost:8080/"
        },
        "id": "4opmhmnzBTjZ",
        "outputId": "44f86e8b-e915-4e5e-85f9-2ad1f82e3878"
      },
      "execution_count": null,
      "outputs": [
        {
          "output_type": "stream",
          "name": "stdout",
          "text": [
            "Model: \"vgg16\"\n",
            "_________________________________________________________________\n",
            " Layer (type)                Output Shape              Param #   \n",
            "=================================================================\n",
            " input_1 (InputLayer)        [(None, 150, 150, 3)]     0         \n",
            "                                                                 \n",
            " block1_conv1 (Conv2D)       (None, 150, 150, 64)      1792      \n",
            "                                                                 \n",
            " block1_conv2 (Conv2D)       (None, 150, 150, 64)      36928     \n",
            "                                                                 \n",
            " block1_pool (MaxPooling2D)  (None, 75, 75, 64)        0         \n",
            "                                                                 \n",
            " block2_conv1 (Conv2D)       (None, 75, 75, 128)       73856     \n",
            "                                                                 \n",
            " block2_conv2 (Conv2D)       (None, 75, 75, 128)       147584    \n",
            "                                                                 \n",
            " block2_pool (MaxPooling2D)  (None, 37, 37, 128)       0         \n",
            "                                                                 \n",
            " block3_conv1 (Conv2D)       (None, 37, 37, 256)       295168    \n",
            "                                                                 \n",
            " block3_conv2 (Conv2D)       (None, 37, 37, 256)       590080    \n",
            "                                                                 \n",
            " block3_conv3 (Conv2D)       (None, 37, 37, 256)       590080    \n",
            "                                                                 \n",
            " block3_pool (MaxPooling2D)  (None, 18, 18, 256)       0         \n",
            "                                                                 \n",
            " block4_conv1 (Conv2D)       (None, 18, 18, 512)       1180160   \n",
            "                                                                 \n",
            " block4_conv2 (Conv2D)       (None, 18, 18, 512)       2359808   \n",
            "                                                                 \n",
            " block4_conv3 (Conv2D)       (None, 18, 18, 512)       2359808   \n",
            "                                                                 \n",
            " block4_pool (MaxPooling2D)  (None, 9, 9, 512)         0         \n",
            "                                                                 \n",
            " block5_conv1 (Conv2D)       (None, 9, 9, 512)         2359808   \n",
            "                                                                 \n",
            " block5_conv2 (Conv2D)       (None, 9, 9, 512)         2359808   \n",
            "                                                                 \n",
            " block5_conv3 (Conv2D)       (None, 9, 9, 512)         2359808   \n",
            "                                                                 \n",
            " block5_pool (MaxPooling2D)  (None, 4, 4, 512)         0         \n",
            "                                                                 \n",
            "=================================================================\n",
            "Total params: 14714688 (56.13 MB)\n",
            "Trainable params: 0 (0.00 Byte)\n",
            "Non-trainable params: 14714688 (56.13 MB)\n",
            "_________________________________________________________________\n"
          ]
        }
      ]
    },
    {
      "cell_type": "code",
      "source": [
        "# Add new fully-connected layers on top\n",
        "\n",
        "model = Sequential()\n",
        "model.add(base_model)\n",
        "\n",
        "model.add(Flatten())\n",
        "model.add(Dense(256, activation='relu'))\n",
        "model.add(Dropout(0.5))  # Dropout layer to prevent overfitting\n",
        "\n",
        "model.add(Dense(128, activation='relu'))\n",
        "model.add(Dense(5, activation='softmax'))  # Output layer with 5 neurons for 5 flower classes"
      ],
      "metadata": {
        "id": "qi4m4kVVBacx"
      },
      "execution_count": null,
      "outputs": []
    },
    {
      "cell_type": "code",
      "source": [
        "model.compile(loss='categorical_crossentropy', optimizer='adam', metrics=['accuracy'])"
      ],
      "metadata": {
        "id": "KrZC8vs8F7Xg"
      },
      "execution_count": null,
      "outputs": []
    },
    {
      "cell_type": "code",
      "source": [
        "from tensorflow.keras.callbacks import EarlyStopping, ReduceLROnPlateau\n",
        "\n",
        "early_stopping = EarlyStopping(patience=5, monitor='val_loss')\n",
        "reduce_lr = ReduceLROnPlateau(factor=0.1, patience=3, monitor='val_loss')\n",
        "callbacks = [early_stopping, reduce_lr]"
      ],
      "metadata": {
        "id": "_0BiwgCOGCZe"
      },
      "execution_count": null,
      "outputs": []
    },
    {
      "cell_type": "code",
      "source": [
        "history = model.fit(train_generator, epochs=20, validation_data=validation_generator, callbacks=callbacks)"
      ],
      "metadata": {
        "colab": {
          "base_uri": "https://localhost:8080/"
        },
        "id": "2TC_uLPfHBra",
        "outputId": "3b2b7c51-59c8-42cb-cea6-0fdd500d23e0"
      },
      "execution_count": null,
      "outputs": [
        {
          "output_type": "stream",
          "name": "stdout",
          "text": [
            "Epoch 1/20\n",
            "81/81 [==============================] - 32s 291ms/step - loss: 1.6491 - accuracy: 0.2768 - val_loss: 1.3796 - val_accuracy: 0.4941 - lr: 0.0010\n",
            "Epoch 2/20\n",
            "81/81 [==============================] - 18s 221ms/step - loss: 1.4318 - accuracy: 0.3784 - val_loss: 1.2252 - val_accuracy: 0.5359 - lr: 0.0010\n",
            "Epoch 3/20\n",
            "81/81 [==============================] - 17s 215ms/step - loss: 1.3635 - accuracy: 0.4114 - val_loss: 1.1843 - val_accuracy: 0.5695 - lr: 0.0010\n",
            "Epoch 4/20\n",
            "81/81 [==============================] - 19s 232ms/step - loss: 1.2886 - accuracy: 0.4461 - val_loss: 1.1379 - val_accuracy: 0.5250 - lr: 0.0010\n",
            "Epoch 5/20\n",
            "81/81 [==============================] - 18s 228ms/step - loss: 1.2637 - accuracy: 0.4574 - val_loss: 1.0061 - val_accuracy: 0.6312 - lr: 0.0010\n",
            "Epoch 6/20\n",
            "81/81 [==============================] - 18s 220ms/step - loss: 1.1987 - accuracy: 0.5045 - val_loss: 0.9610 - val_accuracy: 0.6966 - lr: 0.0010\n",
            "Epoch 7/20\n",
            "81/81 [==============================] - 18s 228ms/step - loss: 1.1858 - accuracy: 0.4932 - val_loss: 0.9535 - val_accuracy: 0.6921 - lr: 0.0010\n",
            "Epoch 8/20\n",
            "81/81 [==============================] - 18s 217ms/step - loss: 1.1225 - accuracy: 0.5391 - val_loss: 0.8940 - val_accuracy: 0.7057 - lr: 0.0010\n",
            "Epoch 9/20\n",
            "81/81 [==============================] - 18s 219ms/step - loss: 1.0813 - accuracy: 0.5535 - val_loss: 0.8344 - val_accuracy: 0.7048 - lr: 0.0010\n",
            "Epoch 10/20\n",
            "81/81 [==============================] - 18s 218ms/step - loss: 1.1105 - accuracy: 0.5243 - val_loss: 0.8284 - val_accuracy: 0.7321 - lr: 0.0010\n",
            "Epoch 11/20\n",
            "81/81 [==============================] - 18s 216ms/step - loss: 1.0728 - accuracy: 0.5465 - val_loss: 0.7644 - val_accuracy: 0.7393 - lr: 0.0010\n",
            "Epoch 12/20\n",
            "81/81 [==============================] - 18s 217ms/step - loss: 1.0906 - accuracy: 0.5461 - val_loss: 0.7941 - val_accuracy: 0.7302 - lr: 0.0010\n",
            "Epoch 13/20\n",
            "81/81 [==============================] - 18s 224ms/step - loss: 1.0956 - accuracy: 0.5492 - val_loss: 0.8095 - val_accuracy: 0.6848 - lr: 0.0010\n",
            "Epoch 14/20\n",
            "81/81 [==============================] - 18s 217ms/step - loss: 1.0625 - accuracy: 0.5621 - val_loss: 0.8199 - val_accuracy: 0.7057 - lr: 0.0010\n",
            "Epoch 15/20\n",
            "81/81 [==============================] - 19s 228ms/step - loss: 0.9667 - accuracy: 0.6061 - val_loss: 0.7054 - val_accuracy: 0.7784 - lr: 1.0000e-04\n",
            "Epoch 16/20\n",
            "81/81 [==============================] - 19s 235ms/step - loss: 0.9646 - accuracy: 0.6057 - val_loss: 0.7037 - val_accuracy: 0.7575 - lr: 1.0000e-04\n",
            "Epoch 17/20\n",
            "81/81 [==============================] - 18s 228ms/step - loss: 0.9428 - accuracy: 0.6178 - val_loss: 0.6861 - val_accuracy: 0.7575 - lr: 1.0000e-04\n",
            "Epoch 18/20\n",
            "81/81 [==============================] - 18s 218ms/step - loss: 0.9134 - accuracy: 0.6345 - val_loss: 0.6812 - val_accuracy: 0.7611 - lr: 1.0000e-04\n",
            "Epoch 19/20\n",
            "81/81 [==============================] - 17s 215ms/step - loss: 0.8951 - accuracy: 0.6364 - val_loss: 0.6484 - val_accuracy: 0.7711 - lr: 1.0000e-04\n",
            "Epoch 20/20\n",
            "81/81 [==============================] - 18s 217ms/step - loss: 0.9064 - accuracy: 0.6357 - val_loss: 0.6561 - val_accuracy: 0.7684 - lr: 1.0000e-04\n"
          ]
        }
      ]
    },
    {
      "cell_type": "code",
      "source": [
        "test_loss, test_acc = model.evaluate(validation_generator)\n",
        "print('Test accuracy:', test_acc)"
      ],
      "metadata": {
        "colab": {
          "base_uri": "https://localhost:8080/"
        },
        "id": "_kprWrBjIDoI",
        "outputId": "eefe6726-f27f-416a-b8e9-d65fe34c8e35"
      },
      "execution_count": null,
      "outputs": [
        {
          "output_type": "stream",
          "name": "stdout",
          "text": [
            "35/35 [==============================] - 3s 71ms/step - loss: 0.6561 - accuracy: 0.7684\n",
            "Test accuracy: 0.7683923840522766\n"
          ]
        }
      ]
    },
    {
      "cell_type": "code",
      "source": [
        "model.save('tf_flowers_vgg16_model.h5')"
      ],
      "metadata": {
        "colab": {
          "base_uri": "https://localhost:8080/"
        },
        "id": "bQvMBxCrJkgv",
        "outputId": "4ac5df6b-0501-44a2-d5b8-de5675b43a72"
      },
      "execution_count": null,
      "outputs": [
        {
          "output_type": "stream",
          "name": "stderr",
          "text": [
            "/usr/local/lib/python3.10/dist-packages/keras/src/engine/training.py:3103: UserWarning: You are saving your model as an HDF5 file via `model.save()`. This file format is considered legacy. We recommend using instead the native Keras format, e.g. `model.save('my_model.keras')`.\n",
            "  saving_api.save_model(\n"
          ]
        }
      ]
    },
    {
      "cell_type": "code",
      "source": [],
      "metadata": {
        "id": "z_S8hZVDJprG"
      },
      "execution_count": null,
      "outputs": []
    }
  ],
  "metadata": {
    "colab": {
      "provenance": [],
      "gpuType": "T4"
    },
    "kernelspec": {
      "display_name": "Python 3",
      "name": "python3"
    },
    "language_info": {
      "name": "python"
    },
    "accelerator": "GPU"
  },
  "nbformat": 4,
  "nbformat_minor": 0
}